{
 "cells": [
  {
   "cell_type": "code",
   "execution_count": 5,
   "id": "76277539-8e2f-4906-b3d9-dc59b6940bb5",
   "metadata": {},
   "outputs": [
    {
     "data": {
      "application/vnd.webio.node+json": {
       "children": [],
       "instanceArgs": {
        "namespace": "html",
        "tag": "div"
       },
       "nodeType": "DOM",
       "props": {},
       "type": "node"
      },
      "text/html": [
       "<div style=\"padding: 1em; background-color: #f8d6da; border: 1px solid #f5c6cb; font-weight: bold;\">\n",
       "<p>The WebIO Jupyter extension was not detected. See the\n",
       "<a href=\"https://juliagizmos.github.io/WebIO.jl/latest/providers/ijulia/\" target=\"_blank\">\n",
       "    WebIO Jupyter integration documentation\n",
       "</a>\n",
       "for more information.\n",
       "</div>\n"
      ],
      "text/plain": [
       "WebIO._IJuliaInit()"
      ]
     },
     "metadata": {},
     "output_type": "display_data"
    }
   ],
   "source": [
    "using Cropbox"
   ]
  },
  {
   "cell_type": "code",
   "execution_count": 6,
   "id": "0177e5d0-032a-4807-bb61-52169e183bea",
   "metadata": {},
   "outputs": [],
   "source": [
    "using CSV\n",
    "using DataFrames"
   ]
  },
  {
   "cell_type": "code",
   "execution_count": 7,
   "id": "ec9ab3ef-3c8c-4945-81ff-73e008f99587",
   "metadata": {},
   "outputs": [
    {
     "data": {
      "text/plain": [
       "Cultivar_parameters"
      ]
     },
     "execution_count": 7,
     "metadata": {},
     "output_type": "execute_result"
    }
   ],
   "source": [
    "#parameter\n",
    "C_parameters = @system Cultivar_parameters begin\n",
    "   T_min ~ preserve(parameter)\n",
    "   HI ~ preserve(parameter)\n",
    "   I_50A ~ preserve(parameter)\n",
    "   I_50B ~ preserve(parameter)\n",
    "end"
   ]
  },
  {
   "cell_type": "code",
   "execution_count": 13,
   "id": "92bb5913-f6d5-4886-8475-c967e00d6049",
   "metadata": {},
   "outputs": [
    {
     "data": {
      "text/plain": [
       "Species_parameters"
      ]
     },
     "execution_count": 13,
     "metadata": {},
     "output_type": "execute_result"
    }
   ],
   "source": [
    "S_parameters = @system Species_parameters begin\n",
    "    T_base ~ preserve(parameter)\n",
    "    T_opt ~ preserve(parameter)\n",
    "    RUE ~ preserve(parameter)\n",
    "    I_50maxH ~ preserve(parameter)\n",
    "    I_50maxW ~ preserve(parameter)\n",
    "    T_max ~ preserve(parameter)\n",
    "    T_ext ~ preserve(parameter)\n",
    "    S_CO2 ~ preserve(parameter)\n",
    "    S_water ~ preserve(parameter)\n",
    "end"
   ]
  },
  {
   "cell_type": "code",
   "execution_count": 15,
   "id": "d48cb1dc-6f45-4a56-978e-23b3095156c8",
   "metadata": {},
   "outputs": [
    {
     "data": {
      "text/html": [
       "<p style=\"font-family: monospace\">Config for 2 systems:</p>\n",
       "<table style=\"font-family: monospace\">\n",
       "<tr style=\"background-color: transparent\">\n",
       "<td colspan=\"3\" style=\"text-align: left; padding: 2px; padding-left: 20px; color: rebeccapurple\">Cultivar_parameters</th>\n",
       "</tr>\n",
       "<tr style=\"background-color: transparent\"><td style=\"text-align: left; padding: 2px; padding-left: 40px; color: royalblue\">T_min</td><td style=\"text-align: center; padding: 2px 10px 2px 10px; color: gray\">=</td><td style=\"text-align: left; padding: 2px;\">2300</td></tr>\n",
       "<tr style=\"background-color: transparent\"><td style=\"text-align: left; padding: 2px; padding-left: 40px; color: royalblue\">HI</td><td style=\"text-align: center; padding: 2px 10px 2px 10px; color: gray\">=</td><td style=\"text-align: left; padding: 2px;\">0.47</td></tr>\n",
       "<tr style=\"background-color: transparent\"><td style=\"text-align: left; padding: 2px; padding-left: 40px; color: royalblue\">I_50A</td><td style=\"text-align: center; padding: 2px 10px 2px 10px; color: gray\">=</td><td style=\"text-align: left; padding: 2px;\">850</td></tr>\n",
       "<tr style=\"background-color: transparent\"><td style=\"text-align: left; padding: 2px; padding-left: 40px; color: royalblue\">I_50B</td><td style=\"text-align: center; padding: 2px 10px 2px 10px; color: gray\">=</td><td style=\"text-align: left; padding: 2px;\">20</td></tr>\n",
       "</table>\n",
       "\n",
       "<table style=\"font-family: monospace\">\n",
       "<tr style=\"background-color: transparent\">\n",
       "<td colspan=\"3\" style=\"text-align: left; padding: 2px; padding-left: 20px; color: rebeccapurple\">Species_parameters</th>\n",
       "</tr>\n",
       "<tr style=\"background-color: transparent\"><td style=\"text-align: left; padding: 2px; padding-left: 40px; color: royalblue\">T_base</td><td style=\"text-align: center; padding: 2px 10px 2px 10px; color: gray\">=</td><td style=\"text-align: left; padding: 2px;\">9</td></tr>\n",
       "<tr style=\"background-color: transparent\"><td style=\"text-align: left; padding: 2px; padding-left: 40px; color: royalblue\">T_opt</td><td style=\"text-align: center; padding: 2px 10px 2px 10px; color: gray\">=</td><td style=\"text-align: left; padding: 2px;\">26</td></tr>\n",
       "<tr style=\"background-color: transparent\"><td style=\"text-align: left; padding: 2px; padding-left: 40px; color: royalblue\">RUE</td><td style=\"text-align: center; padding: 2px 10px 2px 10px; color: gray\">=</td><td style=\"text-align: left; padding: 2px;\">1.24</td></tr>\n",
       "<tr style=\"background-color: transparent\"><td style=\"text-align: left; padding: 2px; padding-left: 40px; color: royalblue\">I_50maxH</td><td style=\"text-align: center; padding: 2px 10px 2px 10px; color: gray\">=</td><td style=\"text-align: left; padding: 2px;\">100</td></tr>\n",
       "<tr style=\"background-color: transparent\"><td style=\"text-align: left; padding: 2px; padding-left: 40px; color: royalblue\">I_50maxW</td><td style=\"text-align: center; padding: 2px 10px 2px 10px; color: gray\">=</td><td style=\"text-align: left; padding: 2px;\">10</td></tr>\n",
       "<tr style=\"background-color: transparent\"><td style=\"text-align: left; padding: 2px; padding-left: 40px; color: royalblue\">T_max</td><td style=\"text-align: center; padding: 2px 10px 2px 10px; color: gray\">=</td><td style=\"text-align: left; padding: 2px;\">34</td></tr>\n",
       "<tr style=\"background-color: transparent\"><td style=\"text-align: left; padding: 2px; padding-left: 40px; color: royalblue\">T_ext</td><td style=\"text-align: center; padding: 2px 10px 2px 10px; color: gray\">=</td><td style=\"text-align: left; padding: 2px;\">50</td></tr>\n",
       "<tr style=\"background-color: transparent\"><td style=\"text-align: left; padding: 2px; padding-left: 40px; color: royalblue\">S_CO2</td><td style=\"text-align: center; padding: 2px 10px 2px 10px; color: gray\">=</td><td style=\"text-align: left; padding: 2px;\">0.08</td></tr>\n",
       "<tr style=\"background-color: transparent\"><td style=\"text-align: left; padding: 2px; padding-left: 40px; color: royalblue\">S_water</td><td style=\"text-align: center; padding: 2px 10px 2px 10px; color: gray\">=</td><td style=\"text-align: left; padding: 2px;\">1.0</td></tr>\n",
       "</table>\n"
      ],
      "text/plain": [
       "Config for 2 systems:\n",
       "  \u001b[95mCultivar_parameters\u001b[39m\n",
       "    \u001b[94mT_min\u001b[39m\u001b[90m = \u001b[39m2300\n",
       "    \u001b[94mHI   \u001b[39m\u001b[90m = \u001b[39m0.47\n",
       "    \u001b[94mI_50A\u001b[39m\u001b[90m = \u001b[39m850\n",
       "    \u001b[94mI_50B\u001b[39m\u001b[90m = \u001b[39m20\n",
       "  \u001b[95mSpecies_parameters\u001b[39m\n",
       "    \u001b[94mT_base  \u001b[39m\u001b[90m = \u001b[39m9\n",
       "    \u001b[94mT_opt   \u001b[39m\u001b[90m = \u001b[39m26\n",
       "    \u001b[94mRUE     \u001b[39m\u001b[90m = \u001b[39m1.24\n",
       "    \u001b[94mI_50maxH\u001b[39m\u001b[90m = \u001b[39m100\n",
       "    \u001b[94mI_50maxW\u001b[39m\u001b[90m = \u001b[39m10\n",
       "    \u001b[94mT_max   \u001b[39m\u001b[90m = \u001b[39m34\n",
       "    \u001b[94mT_ext   \u001b[39m\u001b[90m = \u001b[39m50\n",
       "    \u001b[94mS_CO2   \u001b[39m\u001b[90m = \u001b[39m0.08\n",
       "    \u001b[94mS_water \u001b[39m\u001b[90m = \u001b[39m1.0"
      ]
     },
     "execution_count": 15,
     "metadata": {},
     "output_type": "execute_result"
    }
   ],
   "source": [
    "#config\n",
    "rice = @config(\n",
    "    :Cultivar_parameters => (\n",
    "        T_min = 2300,\n",
    "        HI = 0.47,\n",
    "        I_50A = 850,\n",
    "        I_50B = 20\n",
    "    ),\n",
    "    :Species_parameters => (\n",
    "        T_base = 9,\n",
    "        T_opt = 26,\n",
    "        RUE = 1.24,\n",
    "        I_50maxH = 100,\n",
    "        I_50maxW = 10,\n",
    "        T_max = 34,\n",
    "        T_ext = 50,\n",
    "        S_CO2 = 0.08,\n",
    "        S_water = 1.0\n",
    "    )\n",
    ")"
   ]
  },
  {
   "cell_type": "code",
   "execution_count": 17,
   "id": "02df70ee-b37a-4650-b1cc-c43f9e09d3fb",
   "metadata": {},
   "outputs": [
    {
     "data": {
      "text/plain": [
       "Whether"
      ]
     },
     "execution_count": 17,
     "metadata": {},
     "output_type": "execute_result"
    }
   ],
   "source": [
    "#whether 불러오기\n",
    "file_path = \"weather.csv\"  # 업로드된 파일 경로\n",
    "\n",
    "whether_data = CSV.read(file_path, DataFrame)\n",
    "\n",
    "@system Whether begin\n",
    "end"
   ]
  },
  {
   "cell_type": "code",
   "execution_count": 21,
   "id": "8f82439c-5517-48b1-b276-41168af86b53",
   "metadata": {},
   "outputs": [
    {
     "data": {
      "text/plain": [
       "Phenology"
      ]
     },
     "execution_count": 21,
     "metadata": {},
     "output_type": "execute_result"
    }
   ],
   "source": [
    "#Phenology 구현\n",
    "@system Phenology begin\n",
    "    TT_Δ(T, T_base): added_temperature => begin\n",
    "        T > T_base ? (T - T_base) : 0\n",
    "        end ~ track(u\"°C\")\n",
    "\n",
    "    TT(TT, TT_Δ): mean_temperature => (TT + TT_Δ) ~ accumulate\n",
    "end"
   ]
  },
  {
   "cell_type": "code",
   "execution_count": 84,
   "id": "b02fb801-eec5-46df-a916-7f2df4654600",
   "metadata": {},
   "outputs": [
    {
     "ename": "LoadError",
     "evalue": "TypeError: in ##_Temperature#393, in type definition, expected Type, got a value of type Nothing",
     "output_type": "error",
     "traceback": [
      "TypeError: in ##_Temperature#393, in type definition, expected Type, got a value of type Nothing",
      "",
      "Stacktrace:",
      " [1] macro expansion",
      "   @ ~/.julia/packages/Cropbox/w2gMd/src/macro.jl:464 [inlined]",
      " [2] top-level scope",
      "   @ In[84]:2"
     ]
    }
   ],
   "source": [
    "@system Temperature_heat_drought_CO2 begin\n",
    "    f_temp(T, T_base, T_opt): impact_temperature => begin\n",
    "        if T < T_base\n",
    "            0\n",
    "        elseif T_base <= T && T < T_opt\n",
    "            (T - T_base) /  (T_opt - T_base)\n",
    "        else\n",
    "            1\n",
    "        end\n",
    "    end ~ track\n",
    "\n",
    "    f_heat(T_max, T_heat, T_extreme): impact_heat_stress => begin\n",
    "        if T_max <= T_heat\n",
    "            1\n",
    "        elseif T_heat < T_max && T_max <= T_extreme\n",
    "            1 - ((T_max - T_heat) / (T_extreme - T_heat))\n",
    "        else\n",
    "            0\n",
    "        end\n",
    "    end ~ track\n",
    "\n",
    "    f_CO2(S_CO2, CO2): impact_CO2 => begin\n",
    "        CO2 > 700 ? (1 + (S_CO2 * 350)) : (1 + S_CO2 * (CO2 - 350))\n",
    "    end\n",
    "    \n",
    "end"
   ]
  },
  {
   "cell_type": "code",
   "execution_count": null,
   "id": "f391f1ae-7d8c-440a-b56b-a5f24b7267be",
   "metadata": {},
   "outputs": [],
   "source": []
  }
 ],
 "metadata": {
  "kernelspec": {
   "display_name": "Julia 1.10.0",
   "language": "julia",
   "name": "julia-1.10"
  },
  "language_info": {
   "file_extension": ".jl",
   "mimetype": "application/julia",
   "name": "julia",
   "version": "1.10.0"
  }
 },
 "nbformat": 4,
 "nbformat_minor": 5
}
